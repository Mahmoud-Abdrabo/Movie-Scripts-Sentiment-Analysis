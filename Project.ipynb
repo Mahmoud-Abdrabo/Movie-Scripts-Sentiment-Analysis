{
 "cells": [
  {
   "cell_type": "markdown",
   "metadata": {},
   "source": [
    "<h1><center>NLP Project</center></h1>\n",
    "<h3><center>Spring 2022</center></h3>\n",
    "<hr style=\"border:2px solid black\"> </hr>"
   ]
  },
  {
   "cell_type": "markdown",
   "metadata": {},
   "source": [
    "## Imports"
   ]
  },
  {
   "cell_type": "code",
   "execution_count": 47,
   "metadata": {},
   "outputs": [],
   "source": [
    "# Imports\n",
    "import os\n",
    "import numpy as np\n",
    "import csv\n",
    "import string\n",
    "import nltk\n",
    "from nltk.corpus import stopwords\n",
    "from nltk import word_tokenize\n",
    "import wordninja\n",
    "import matplotlib.pyplot as plt\n",
    "%matplotlib inline"
   ]
  },
  {
   "cell_type": "markdown",
   "metadata": {},
   "source": [
    "## Read Data"
   ]
  },
  {
   "cell_type": "code",
   "execution_count": null,
   "metadata": {},
   "outputs": [],
   "source": [
    "# Reading Data Before Preprocessing\n",
    "\n",
    "init_data = {} # Document dictionary, key is file name, value is set of words in every file\n",
    "i = 0\n",
    "\n",
    "for root, dirs, files in os.walk('scripts/'):\n",
    "    for file in files: \n",
    "        \n",
    "        init_words = []\n",
    "        \n",
    "        # use with block to safely open and close a file\n",
    "        with open(os.path.join(root,file), 'r', encoding=\"utf8\") as f:\n",
    "            \n",
    "            temp = word_tokenize(f.read())\n",
    "            temp = set(temp)\n",
    "            for word in temp:\n",
    "                init_words+=wordninja.split(word)\n",
    "            init_words = set(init_words)\n",
    "            init_words = list(init_words)\n",
    "            init_data[file] = init_words\n",
    "            #print(len(init_words))"
   ]
  },
  {
   "cell_type": "code",
   "execution_count": null,
   "metadata": {},
   "outputs": [],
   "source": [
    "#init_words"
   ]
  },
  {
   "cell_type": "code",
   "execution_count": 29,
   "metadata": {},
   "outputs": [
    {
     "data": {
      "text/plain": [
       "4251"
      ]
     },
     "execution_count": 29,
     "metadata": {},
     "output_type": "execute_result"
    }
   ],
   "source": [
    "len(init_words)"
   ]
  },
  {
   "cell_type": "code",
   "execution_count": 52,
   "metadata": {},
   "outputs": [
    {
     "name": "stdout",
     "output_type": "stream",
     "text": [
      "Stored 'init_data' (dict)\n",
      "Stored 'init_words' (list)\n"
     ]
    }
   ],
   "source": [
    "%store init_data\n",
    "%store init_words"
   ]
  },
  {
   "cell_type": "markdown",
   "metadata": {},
   "source": [
    "<hr style=\"border:2px solid black\"> </hr>\n",
    "\n",
    "## Preprocessing"
   ]
  },
  {
   "cell_type": "code",
   "execution_count": 20,
   "metadata": {},
   "outputs": [],
   "source": [
    "# Determine Stopwords and Punctuation\n",
    "\n",
    "english_stops = stopwords.words('English')\n",
    "\n",
    "puncts = [punc for punc in string.punctuation]\n",
    "\n",
    "stop_and_punct = english_stops + puncts"
   ]
  },
  {
   "cell_type": "code",
   "execution_count": 54,
   "metadata": {},
   "outputs": [
    {
     "name": "stdout",
     "output_type": "stream",
     "text": [
      "Stored 'stop_and_punct' (list)\n"
     ]
    }
   ],
   "source": [
    "%store stop_and_punct"
   ]
  },
  {
   "cell_type": "code",
   "execution_count": null,
   "metadata": {
    "scrolled": true
   },
   "outputs": [],
   "source": [
    "# Preprocessing Data\n",
    "\n",
    "data = {} # Document dictionary, key is file name, value is set of words in every file\n",
    "i = 0\n",
    "\n",
    "for root, dirs, files in os.walk('scripts/'):\n",
    "    for file in files: \n",
    "        \n",
    "        data_words = []\n",
    "        \n",
    "        # use with block to safely open and close a file\n",
    "        with open(os.path.join(root,file), 'r', encoding=\"utf8\") as f:\n",
    "            \n",
    "            temp_words = word_tokenize(f.read())\n",
    "            temp_words = set(temp_words)\n",
    "            for temp_word in temp_words:\n",
    "                data_words+=wordninja.split(temp_word)\n",
    "            data_words = [data_word for data_word in data_words if data_word not in stop_and_punct]\n",
    "            data_words = set(data_words)\n",
    "            data_words = list(data_words)\n",
    "            data[file] = data_words\n",
    "            #print(len(data_words))"
   ]
  },
  {
   "cell_type": "code",
   "execution_count": null,
   "metadata": {},
   "outputs": [],
   "source": [
    "#data_words"
   ]
  },
  {
   "cell_type": "code",
   "execution_count": 27,
   "metadata": {},
   "outputs": [
    {
     "data": {
      "text/plain": [
       "4105"
      ]
     },
     "execution_count": 27,
     "metadata": {},
     "output_type": "execute_result"
    }
   ],
   "source": [
    "len(data_words)"
   ]
  },
  {
   "cell_type": "code",
   "execution_count": 53,
   "metadata": {},
   "outputs": [
    {
     "name": "stdout",
     "output_type": "stream",
     "text": [
      "Stored 'data' (dict)\n",
      "Stored 'data_words' (list)\n"
     ]
    }
   ],
   "source": [
    "%store data\n",
    "%store data_words"
   ]
  },
  {
   "cell_type": "code",
   "execution_count": null,
   "metadata": {},
   "outputs": [],
   "source": []
  },
  {
   "cell_type": "markdown",
   "metadata": {},
   "source": [
    "<hr style=\"border:2px solid black\"> </hr>\n",
    "\n",
    "## VAD Vectorization"
   ]
  },
  {
   "cell_type": "code",
   "execution_count": 48,
   "metadata": {},
   "outputs": [],
   "source": [
    "# csv file name\n",
    "filename = \"NRC-VAD-Lexicon.csv\"\n",
    "\n",
    "# initializing the titles and rows list\n",
    "fields = []\n",
    "rows = []\n",
    "\n",
    "# reading csv file\n",
    "with open(filename, 'r') as csvfile:\n",
    "    # creating a csv reader object\n",
    "    csvreader = csv.reader(csvfile)\n",
    "     \n",
    "    # extracting field names through first row\n",
    "    fields = next(csvreader)\n",
    " \n",
    "    # extracting each data row one by one\n",
    "    for row in csvreader:\n",
    "        rows.append(row)"
   ]
  },
  {
   "cell_type": "code",
   "execution_count": 49,
   "metadata": {},
   "outputs": [
    {
     "data": {
      "text/plain": [
       "['word', 'valence', 'arousal', 'dominance']"
      ]
     },
     "execution_count": 49,
     "metadata": {},
     "output_type": "execute_result"
    }
   ],
   "source": [
    "fields"
   ]
  },
  {
   "cell_type": "code",
   "execution_count": null,
   "metadata": {},
   "outputs": [],
   "source": [
    "#rows"
   ]
  },
  {
   "cell_type": "code",
   "execution_count": 51,
   "metadata": {},
   "outputs": [
    {
     "name": "stdout",
     "output_type": "stream",
     "text": [
      "Stored 'fields' (list)\n",
      "Stored 'rows' (list)\n"
     ]
    }
   ],
   "source": [
    "%store fields\n",
    "%store rows"
   ]
  },
  {
   "cell_type": "code",
   "execution_count": 39,
   "metadata": {},
   "outputs": [
    {
     "data": {
      "text/plain": [
       "712"
      ]
     },
     "execution_count": 39,
     "metadata": {},
     "output_type": "execute_result"
    }
   ],
   "source": [
    "data_values = data.values()\n",
    "data_list = list(data_values)\n",
    "len(data_list)"
   ]
  },
  {
   "cell_type": "markdown",
   "metadata": {},
   "source": [
    "<hr style=\"border:2px solid black\"> </hr>\n",
    "\n",
    "## Output"
   ]
  },
  {
   "cell_type": "code",
   "execution_count": null,
   "metadata": {},
   "outputs": [],
   "source": []
  }
 ],
 "metadata": {
  "interpreter": {
   "hash": "31f2aee4e71d21fbe5cf8b01ff0e069b9275f58929596ceb00d14d90e3e16cd6"
  },
  "kernelspec": {
   "display_name": "Python 3",
   "language": "python",
   "name": "python3"
  },
  "language_info": {
   "codemirror_mode": {
    "name": "ipython",
    "version": 3
   },
   "file_extension": ".py",
   "mimetype": "text/x-python",
   "name": "python",
   "nbconvert_exporter": "python",
   "pygments_lexer": "ipython3",
   "version": "3.8.8"
  }
 },
 "nbformat": 4,
 "nbformat_minor": 4
}
