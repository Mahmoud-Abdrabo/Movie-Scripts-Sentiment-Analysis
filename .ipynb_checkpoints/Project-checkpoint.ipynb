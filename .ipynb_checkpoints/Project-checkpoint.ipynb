{
 "cells": [
  {
   "cell_type": "markdown",
   "metadata": {},
   "source": [
    "<h1><center>NLP Project</center></h1>\n",
    "<h3><center>Spring 2022</center></h3>\n",
    "<hr style=\"border:2px solid black\"> </hr>"
   ]
  },
  {
   "cell_type": "markdown",
   "metadata": {},
   "source": [
    "## Imports"
   ]
  },
  {
   "cell_type": "code",
   "execution_count": 1,
   "metadata": {},
   "outputs": [],
   "source": [
    "# Imports\n",
    "import os\n",
    "import numpy as np\n",
    "import csv\n",
    "import string\n",
    "import nltk\n",
    "from nltk.corpus import stopwords\n",
    "from nltk import word_tokenize\n",
    "import wordninja\n",
    "import matplotlib.pyplot as plt\n",
    "%matplotlib inline"
   ]
  },
  {
   "cell_type": "markdown",
   "metadata": {},
   "source": [
    "## Read Data"
   ]
  },
  {
   "cell_type": "code",
   "execution_count": null,
   "metadata": {
    "scrolled": true
   },
   "outputs": [],
   "source": [
    "# Reading Data Before Preprocessing\n",
    "\n",
    "init_data = {} # Document dictionary, key is file name, value is set of words in every file\n",
    "i = 0\n",
    "\n",
    "for root, dirs, files in os.walk('scripts/'):\n",
    "    for file in files: \n",
    "        \n",
    "        init_words = []\n",
    "        \n",
    "        # use with block to safely open and close a file\n",
    "        with open(os.path.join(root,file), 'r', encoding=\"utf8\") as f:\n",
    "            \n",
    "            temp = word_tokenize(f.read())\n",
    "            temp = set(temp)\n",
    "            for word in temp:\n",
    "                init_words+=wordninja.split(word)\n",
    "            init_words = set(init_words)\n",
    "            init_words = list(init_words)\n",
    "            init_data[file] = init_words\n",
    "            print(len(init_words))"
   ]
  },
  {
   "cell_type": "code",
   "execution_count": null,
   "metadata": {
    "scrolled": true
   },
   "outputs": [],
   "source": [
    "init_words"
   ]
  },
  {
   "cell_type": "code",
   "execution_count": 29,
   "metadata": {},
   "outputs": [
    {
     "data": {
      "text/plain": [
       "4251"
      ]
     },
     "execution_count": 29,
     "metadata": {},
     "output_type": "execute_result"
    }
   ],
   "source": [
    "len(init_words)"
   ]
  },
  {
   "cell_type": "code",
   "execution_count": 17,
   "metadata": {},
   "outputs": [
    {
     "name": "stdout",
     "output_type": "stream",
     "text": [
      "Stored 'init_data' (dict)\n",
      "Stored 'init_words' (list)\n"
     ]
    }
   ],
   "source": [
    "%store init_data\n",
    "%store init_words"
   ]
  },
  {
   "cell_type": "code",
   "execution_count": 2,
   "metadata": {},
   "outputs": [
    {
     "data": {
      "text/plain": [
       "4251"
      ]
     },
     "execution_count": 2,
     "metadata": {},
     "output_type": "execute_result"
    }
   ],
   "source": [
    "%store -r init_data\n",
    "%store -r init_words\n",
    "len(init_words)"
   ]
  },
  {
   "cell_type": "markdown",
   "metadata": {},
   "source": [
    "<hr style=\"border:2px solid black\"> </hr>\n",
    "\n",
    "## Preprocessing"
   ]
  },
  {
   "cell_type": "code",
   "execution_count": 20,
   "metadata": {},
   "outputs": [],
   "source": [
    "# Determine Stopwords and Punctuation\n",
    "\n",
    "english_stops = stopwords.words('English')\n",
    "\n",
    "puncts = [punc for punc in string.punctuation]\n",
    "\n",
    "stop_and_punct = english_stops + puncts"
   ]
  },
  {
   "cell_type": "code",
   "execution_count": 18,
   "metadata": {},
   "outputs": [
    {
     "name": "stdout",
     "output_type": "stream",
     "text": [
      "Stored 'stop_and_punct' (list)\n"
     ]
    }
   ],
   "source": [
    "%store stop_and_punct"
   ]
  },
  {
   "cell_type": "code",
   "execution_count": 3,
   "metadata": {},
   "outputs": [
    {
     "data": {
      "text/plain": [
       "211"
      ]
     },
     "execution_count": 3,
     "metadata": {},
     "output_type": "execute_result"
    }
   ],
   "source": [
    "%store -r stop_and_punct\n",
    "len(stop_and_punct)"
   ]
  },
  {
   "cell_type": "code",
   "execution_count": null,
   "metadata": {
    "scrolled": true
   },
   "outputs": [],
   "source": [
    "# Preprocessing Data\n",
    "\n",
    "data = {} # Document dictionary, key is file name, value is set of words in every file\n",
    "i = 0\n",
    "\n",
    "for root, dirs, files in os.walk('scripts/'):\n",
    "    for file in files: \n",
    "        \n",
    "        data_words = []\n",
    "        \n",
    "        # use with block to safely open and close a file\n",
    "        with open(os.path.join(root,file), 'r', encoding=\"utf8\") as f:\n",
    "            \n",
    "            temp_words = word_tokenize(f.read())\n",
    "            temp_words = set(temp_words)\n",
    "            for temp_word in temp_words:\n",
    "                data_words+=wordninja.split(temp_word)\n",
    "            data_words = [data_word for data_word in data_words if data_word not in stop_and_punct]\n",
    "            data_words = set(data_words)\n",
    "            data_words = list(data_words)\n",
    "            data[file] = data_words\n",
    "            print(len(data_words))"
   ]
  },
  {
   "cell_type": "code",
   "execution_count": null,
   "metadata": {
    "scrolled": true
   },
   "outputs": [],
   "source": [
    "data_words"
   ]
  },
  {
   "cell_type": "code",
   "execution_count": 27,
   "metadata": {},
   "outputs": [
    {
     "data": {
      "text/plain": [
       "4105"
      ]
     },
     "execution_count": 27,
     "metadata": {},
     "output_type": "execute_result"
    }
   ],
   "source": [
    "len(data_words)"
   ]
  },
  {
   "cell_type": "code",
   "execution_count": 19,
   "metadata": {},
   "outputs": [
    {
     "name": "stdout",
     "output_type": "stream",
     "text": [
      "Stored 'data' (dict)\n",
      "Stored 'data_words' (list)\n"
     ]
    }
   ],
   "source": [
    "%store data\n",
    "%store data_words"
   ]
  },
  {
   "cell_type": "code",
   "execution_count": 4,
   "metadata": {},
   "outputs": [],
   "source": [
    "%store -r data\n",
    "%store -r data_words"
   ]
  },
  {
   "cell_type": "markdown",
   "metadata": {},
   "source": [
    "<hr style=\"border:2px solid black\"> </hr>\n",
    "\n",
    "## VAD Vectorization"
   ]
  },
  {
   "cell_type": "code",
   "execution_count": 5,
   "metadata": {},
   "outputs": [],
   "source": [
    "# csv file name\n",
    "filename = \"NRC-VAD-Lexicon.csv\"\n",
    "\n",
    "# initializing the titles and rows list\n",
    "fields = []\n",
    "VAD_Words = {}\n",
    "\n",
    "# reading csv file\n",
    "with open(filename, 'r') as csvfile:\n",
    "    # creating a csv reader object\n",
    "    csvreader = csv.reader(csvfile)\n",
    "     \n",
    "    # extracting field names through first row\n",
    "    fields = next(csvreader)\n",
    " \n",
    "    # extracting each data row one by one\n",
    "    for row in csvreader:\n",
    "        VAD_Words[row[0]]=row[1:]"
   ]
  },
  {
   "cell_type": "code",
   "execution_count": 6,
   "metadata": {},
   "outputs": [
    {
     "data": {
      "text/plain": [
       "['word', 'valence', 'arousal', 'dominance']"
      ]
     },
     "execution_count": 6,
     "metadata": {},
     "output_type": "execute_result"
    }
   ],
   "source": [
    "fields"
   ]
  },
  {
   "cell_type": "code",
   "execution_count": 7,
   "metadata": {
    "scrolled": true
   },
   "outputs": [
    {
     "data": {
      "text/plain": [
       "19971"
      ]
     },
     "execution_count": 7,
     "metadata": {},
     "output_type": "execute_result"
    }
   ],
   "source": [
    "len(VAD_Words)"
   ]
  },
  {
   "cell_type": "code",
   "execution_count": 8,
   "metadata": {},
   "outputs": [],
   "source": [
    "# save the VAD values for all word in each script in scripts_VAD\n",
    "#  save only the non zero vad values for words in each script in  scripts_NONzero_VADs\n",
    "scripts_VAD = {};\n",
    "scripts_NONzero_VADs = {};\n",
    "for script in data:\n",
    "    script_VAD = [];\n",
    "    sript_V=[]\n",
    "    script_A=[]\n",
    "    script_D=[]\n",
    "    script_NONzero_VAD = [];\n",
    "    sript_NONzero_V=[]\n",
    "    script_NONzero_A=[]\n",
    "    script_NONzero_D=[]\n",
    "    script_words = data[script];\n",
    "    for w in script_words:\n",
    "        if(w in VAD_Words ):\n",
    "            sript_V.append(VAD_Words[w][0])\n",
    "            script_A.append(VAD_Words[w][1])\n",
    "            script_D.append(VAD_Words[w][2])\n",
    "            \n",
    "            sript_NONzero_V.append(VAD_Words[w][0])\n",
    "            script_NONzero_A.append(VAD_Words[w][1])\n",
    "            script_NONzero_D.append(VAD_Words[w][2])\n",
    "        else:\n",
    "            sript_V.append(0)\n",
    "            script_A.append(0)\n",
    "            script_D.append(0)\n",
    "            \n",
    "    script_NONzero_VAD.append(sript_NONzero_V)   \n",
    "    script_NONzero_VAD.append(script_NONzero_A)   \n",
    "    script_NONzero_VAD.append(script_NONzero_D)  \n",
    "    script_NONzero_VAD=np.array(script_NONzero_VAD,  dtype=\"float\")\n",
    "    scripts_NONzero_VADs[script]=script_NONzero_VAD\n",
    "    \n",
    "    script_VAD.append(sript_V)     \n",
    "    script_VAD.append(script_A) \n",
    "    script_VAD.append(script_D) \n",
    "    script_VAD=np.array(script_VAD, dtype=\"float\")\n",
    "    scripts_VAD[script]=script_VAD"
   ]
  },
  {
   "cell_type": "code",
   "execution_count": 9,
   "metadata": {},
   "outputs": [
    {
     "data": {
      "text/plain": [
       "(712, 712)"
      ]
     },
     "execution_count": 9,
     "metadata": {},
     "output_type": "execute_result"
    }
   ],
   "source": [
    "# makesure that scripts_NONzero_VADs and scripts_VAD has same number of scripts\n",
    "len(scripts_VAD.keys()) , len(scripts_NONzero_VADs.keys())"
   ]
  },
  {
   "cell_type": "code",
   "execution_count": 10,
   "metadata": {},
   "outputs": [],
   "source": [
    " #taking the average of non_zero Values and save it in aver_VADS dic where the key is the script/movie name\n",
    "def average_every500(array):\n",
    "    output=[]\n",
    "    for j in range(0,len(array),500):\n",
    "           result=sum(array[j:j+500])/500\n",
    "           output.append(result)   \n",
    "    return output\n",
    "aver_VADS={}\n",
    "for script in scripts_NONzero_VADs:\n",
    "    aver_VAD=[]\n",
    "    aver_V=average_every500(scripts_NONzero_VADs[script][0])\n",
    "    aver_A=average_every500(scripts_NONzero_VADs[script][1])\n",
    "    aver_D=average_every500(scripts_NONzero_VADs[script][2])\n",
    "    aver_VAD.append(aver_V)\n",
    "    aver_VAD.append(aver_A)\n",
    "    aver_VAD.append(aver_D)\n",
    "    aver_VAD=np.array(aver_VAD,  dtype=\"float\")\n",
    "    aver_VADS[script]=aver_VAD\n",
    "        "
   ]
  },
  {
   "cell_type": "markdown",
   "metadata": {},
   "source": [
    "<hr style=\"border:2px solid black\"> </hr>\n",
    "\n",
    "## Output"
   ]
  },
  {
   "cell_type": "code",
   "execution_count": 15,
   "metadata": {},
   "outputs": [],
   "source": [
    "#Plot movie\n",
    " \n",
    "def Save_Movie_plot(movie):\n",
    "    plt.figure(figsize=(20, 10))\n",
    "    average_VAD = aver_VADS[movie];\n",
    "    plt.plot(average_VAD[0])\n",
    "    plt.plot(average_VAD[1])\n",
    "    plt.plot(average_VAD[2])\n",
    "    plt.legend([\"Valence\",\"Arousal\",\"Dominance\"]);\n",
    "    plt.title(movie[:-4]);\n",
    "   # plt.show()\n",
    "    plt.savefig(\"FilmPlots/\"+movie[:-4]+\".jpg\");\n",
    "    plt.close()"
   ]
  },
  {
   "cell_type": "code",
   "execution_count": 16,
   "metadata": {},
   "outputs": [],
   "source": [
    "for movie in aver_VADS:\n",
    "    Save_Movie_plot(movie);"
   ]
  }
 ],
 "metadata": {
  "interpreter": {
   "hash": "31f2aee4e71d21fbe5cf8b01ff0e069b9275f58929596ceb00d14d90e3e16cd6"
  },
  "kernelspec": {
   "display_name": "Python 3",
   "language": "python",
   "name": "python3"
  },
  "language_info": {
   "codemirror_mode": {
    "name": "ipython",
    "version": 3
   },
   "file_extension": ".py",
   "mimetype": "text/x-python",
   "name": "python",
   "nbconvert_exporter": "python",
   "pygments_lexer": "ipython3",
   "version": "3.8.8"
  }
 },
 "nbformat": 4,
 "nbformat_minor": 4
}
